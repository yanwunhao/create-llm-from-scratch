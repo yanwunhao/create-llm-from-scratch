{
 "cells": [
  {
   "metadata": {},
   "cell_type": "markdown",
   "source": "Program init",
   "id": "fb659d629bd91fdb"
  },
  {
   "metadata": {
    "ExecuteTime": {
     "end_time": "2024-05-16T05:01:49.466507Z",
     "start_time": "2024-05-16T05:01:48.625920Z"
    }
   },
   "cell_type": "code",
   "source": [
    "import torch\n",
    "\n",
    "block_size = 8\n",
    "batch_size = 16\n",
    "\n",
    "device = torch.device(\"cuda\" if torch.cuda.is_available() else \"mps\" \n",
    "if torch.backends.mps.is_available() else \"cpu\")\n",
    "\n",
    "print(\"Computing on\", device)"
   ],
   "id": "13ed9d675a2c9a52",
   "outputs": [
    {
     "name": "stdout",
     "output_type": "stream",
     "text": [
      "Computing on mps\n"
     ]
    }
   ],
   "execution_count": 1
  },
  {
   "cell_type": "code",
   "id": "initial_id",
   "metadata": {
    "collapsed": true,
    "ExecuteTime": {
     "end_time": "2024-05-16T05:01:49.474711Z",
     "start_time": "2024-05-16T05:01:49.468786Z"
    }
   },
   "source": [
    "with open(\"wizard_of_oz.txt\", \"r\", encoding=\"utf-8\") as f:\n",
    "    text = f.read()\n",
    "chars = sorted(set(text))\n",
    "\n",
    "vocabulary_size = len(chars)"
   ],
   "outputs": [],
   "execution_count": 2
  },
  {
   "metadata": {},
   "cell_type": "markdown",
   "source": "Map the chars to the indexes with biodirectional connections",
   "id": "ccf1109ef2bd9d30"
  },
  {
   "metadata": {
    "ExecuteTime": {
     "end_time": "2024-05-16T05:01:49.501100Z",
     "start_time": "2024-05-16T05:01:49.475516Z"
    }
   },
   "cell_type": "code",
   "source": [
    "string_to_int = { ch:i for i,ch in enumerate(chars)}\n",
    "int_to_string = { i:ch for i,ch in enumerate(chars)}\n",
    "\n",
    "encode = lambda s: [string_to_int[c] for c in s]\n",
    "decode = lambda l: \"\".join([int_to_string[i] for i in l])\n",
    "\n",
    "data = torch.tensor(encode(text), dtype=torch.long)"
   ],
   "id": "a92b71874842521c",
   "outputs": [],
   "execution_count": 3
  },
  {
   "metadata": {},
   "cell_type": "markdown",
   "source": "Split the text into training/testing sets with 8:2",
   "id": "4d0f8479de444b75"
  },
  {
   "metadata": {
    "ExecuteTime": {
     "end_time": "2024-05-16T05:01:49.509313Z",
     "start_time": "2024-05-16T05:01:49.503814Z"
    }
   },
   "cell_type": "code",
   "source": [
    "train_test_ratio = 0.8\n",
    "train_data = data[:int(len(data)*train_test_ratio)]\n",
    "test_data = data[int(len(data)*train_test_ratio):]"
   ],
   "id": "ea0e57b5089833d8",
   "outputs": [],
   "execution_count": 4
  }
 ],
 "metadata": {
  "kernelspec": {
   "display_name": "Python 3",
   "language": "python",
   "name": "python3"
  },
  "language_info": {
   "codemirror_mode": {
    "name": "ipython",
    "version": 2
   },
   "file_extension": ".py",
   "mimetype": "text/x-python",
   "name": "python",
   "nbconvert_exporter": "python",
   "pygments_lexer": "ipython2",
   "version": "2.7.6"
  }
 },
 "nbformat": 4,
 "nbformat_minor": 5
}
