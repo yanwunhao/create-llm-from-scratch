{
 "cells": [
  {
   "metadata": {
    "ExecuteTime": {
     "end_time": "2024-05-16T07:18:40.219721Z",
     "start_time": "2024-05-16T07:18:39.252553Z"
    }
   },
   "cell_type": "code",
   "source": [
    "import torch\n",
    "\n",
    "block_size = 8\n",
    "batch_size = 16\n",
    "\n",
    "device = torch.device(\"cuda\" if torch.cuda.is_available() else \"mps\" \n",
    "if torch.backends.mps.is_available() else \"cpu\")\n",
    "\n",
    "print(\"Computing on\", device)"
   ],
   "id": "13ed9d675a2c9a52",
   "outputs": [
    {
     "name": "stdout",
     "output_type": "stream",
     "text": [
      "Computing on mps\n"
     ]
    }
   ],
   "execution_count": 1
  },
  {
   "cell_type": "code",
   "id": "initial_id",
   "metadata": {
    "collapsed": true,
    "ExecuteTime": {
     "end_time": "2024-05-16T07:18:40.225645Z",
     "start_time": "2024-05-16T07:18:40.220849Z"
    }
   },
   "source": [
    "with open(\"wizard_of_oz.txt\", \"r\", encoding=\"utf-8\") as f:\n",
    "    text = f.read()\n",
    "chars = sorted(set(text))\n",
    "\n",
    "vocabulary_size = len(chars)"
   ],
   "outputs": [],
   "execution_count": 2
  },
  {
   "metadata": {
    "ExecuteTime": {
     "end_time": "2024-05-16T07:18:40.253192Z",
     "start_time": "2024-05-16T07:18:40.226500Z"
    }
   },
   "cell_type": "code",
   "source": [
    "string_to_int = { ch:i for i,ch in enumerate(chars)}\n",
    "int_to_string = { i:ch for i,ch in enumerate(chars)}\n",
    "\n",
    "encode = lambda s: [string_to_int[c] for c in s]\n",
    "decode = lambda l: \"\".join([int_to_string[i] for i in l])\n",
    "\n",
    "data = torch.tensor(encode(text), dtype=torch.long)"
   ],
   "id": "a92b71874842521c",
   "outputs": [],
   "execution_count": 3
  },
  {
   "metadata": {
    "ExecuteTime": {
     "end_time": "2024-05-16T07:18:40.261746Z",
     "start_time": "2024-05-16T07:18:40.255972Z"
    }
   },
   "cell_type": "code",
   "source": [
    "train_test_ratio = 0.8\n",
    "train_data = data[:int(len(data)*train_test_ratio)]\n",
    "test_data = data[int(len(data)*train_test_ratio):]"
   ],
   "id": "ea0e57b5089833d8",
   "outputs": [],
   "execution_count": 4
  }
 ],
 "metadata": {
  "kernelspec": {
   "display_name": "Python 3",
   "language": "python",
   "name": "python3"
  },
  "language_info": {
   "codemirror_mode": {
    "name": "ipython",
    "version": 2
   },
   "file_extension": ".py",
   "mimetype": "text/x-python",
   "name": "python",
   "nbconvert_exporter": "python",
   "pygments_lexer": "ipython2",
   "version": "2.7.6"
  }
 },
 "nbformat": 4,
 "nbformat_minor": 5
}
